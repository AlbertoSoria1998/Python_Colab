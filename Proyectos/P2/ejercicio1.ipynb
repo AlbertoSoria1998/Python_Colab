{
  "cells": [
    {
      "cell_type": "markdown",
      "metadata": {
        "id": "gXM4BGdh6I6r"
      },
      "source": [
        "## Ejercicio\n",
        "\n",
        "Escribir un programa que pregunte el nombre del usuario en la consola y un número entero e imprima por pantalla en líneas distintas el nombre del usuario tantas veces como el número introducido."
      ]
    },
    {
      "cell_type": "markdown",
      "metadata": {
        "id": "RW4xI5l16I6s"
      },
      "source": [
        "## Solución"
      ]
    },
    {
      "cell_type": "code",
      "execution_count": 1,
      "metadata": {
        "id": "L5vJxF_W6I6s",
        "outputId": "2f48c1e4-41e9-4ca1-e826-8b1ec7920e28",
        "colab": {
          "base_uri": "https://localhost:8080/"
        }
      },
      "outputs": [
        {
          "output_type": "stream",
          "name": "stdout",
          "text": [
            "¿Cómo te llamas? jesus\n",
            "Introduce un número entero: 5\n",
            "jesus\n",
            "jesus\n",
            "jesus\n",
            "jesus\n",
            "jesus\n",
            "\n"
          ]
        }
      ],
      "source": [
        "nombre = input(\"¿Cómo te llamas? \")\n",
        "n = input(\"Introduce un número entero: \")\n",
        "print((nombre + \"\\n\") * int(n))"
      ]
    }
  ],
  "metadata": {
    "kernelspec": {
      "display_name": "Python 3",
      "language": "python",
      "name": "python3"
    },
    "language_info": {
      "codemirror_mode": {
        "name": "ipython",
        "version": 3
      },
      "file_extension": ".py",
      "mimetype": "text/x-python",
      "name": "python",
      "nbconvert_exporter": "python",
      "pygments_lexer": "ipython3",
      "version": "3.7.1"
    },
    "colab": {
      "provenance": []
    }
  },
  "nbformat": 4,
  "nbformat_minor": 0
}