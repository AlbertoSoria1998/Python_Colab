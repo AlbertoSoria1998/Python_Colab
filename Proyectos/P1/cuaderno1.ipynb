{
  "nbformat": 4,
  "nbformat_minor": 0,
  "metadata": {
    "colab": {
      "provenance": []
    },
    "kernelspec": {
      "name": "python3",
      "display_name": "Python 3"
    },
    "language_info": {
      "name": "python"
    }
  },
  "cells": [
    {
      "cell_type": "code",
      "source": [
        "pip install streamlit -q"
      ],
      "metadata": {
        "id": "MU2JZ96FLb17"
      },
      "execution_count": null,
      "outputs": []
    },
    {
      "cell_type": "code",
      "source": [
        "pip install streamlit-lottie"
      ],
      "metadata": {
        "id": "klnIWjCFLeAx"
      },
      "execution_count": null,
      "outputs": []
    },
    {
      "cell_type": "code",
      "source": [
        "pip install Pillow"
      ],
      "metadata": {
        "colab": {
          "base_uri": "https://localhost:8080/"
        },
        "id": "OpOJvAsYLo2_",
        "outputId": "60653e6c-3226-42f3-ac3e-d0aea2310f09"
      },
      "execution_count": 8,
      "outputs": [
        {
          "output_type": "stream",
          "name": "stdout",
          "text": [
            "Requirement already satisfied: Pillow in /usr/local/lib/python3.10/dist-packages (9.4.0)\n"
          ]
        }
      ]
    },
    {
      "cell_type": "code",
      "source": [
        " %%writefile jesus.py\n",
        "\n",
        "import streamlit as st\n",
        "import requests\n",
        "from streamlit_lottie import st_lottie\n",
        "from PIL import Image\n",
        "\n",
        "\n",
        "#Funcion para nuestra animacion\n",
        "def load_lottieurl(url):\n",
        "  r = requests.get(url)\n",
        "  if r.status_code != 200:\n",
        "    return None\n",
        "  return r.json()\n",
        "\n",
        "lottie_coding = load_lottieurl(\"https://assets1.lottiefiles.com/packages/lf20_0yfsb3a1.json\")\n",
        "imagen_video = Image.open(\"/content/logo_fia.jpeg\") #Pon la ruta de tu imagen\n",
        "with st.container():\n",
        "  st.subheader(\"Hola! bienvenido a mi sitio web :wave:\")\n",
        "  st.title(\"Introduccion a la Ciencia de Datos\")\n",
        "  st.write(\"Bienvenido a mi canal. Este canal se centra en la creacion de tutoriales y tutoriales prara programadores e ingenieros.\")\n",
        "  st.write(\"[Mas informacion >](https:///www.youtube.com/@DrXabi/featured)\")\n",
        "\n",
        "with st.container():\n",
        "  st.write(\"---\")\n",
        "  left_column, right_column = st.columns(2)\n",
        "  with left_column:\n",
        "    st.header(\"Mi objetivo\")\n",
        "    st.write(\n",
        "      \"\"\"\n",
        "        Bienvenido a mi canal. Este canal se centra en la creacion de tutoriales y tutoriales para administradores,\n",
        "        programadores e ingenieros. CUBRIMOS TEMAS PARA TODOS LOS DIFERENTES NIVELES DE HABILIDAD, POR LO TANTO, YA SEA QUE ERES UN PRINCIPIANTE O TENMGAS MUCHOS AÑOS\n",
        "        ESTE CANAL TENDRA ALGO PARA TI\n",
        "      \"\"\"\n",
        "    )\n",
        "    st.write(\"[Youtube >](https://youtube.com/@DrXabi/featured)\")\n",
        "  with right_column:\n",
        "    st_lottie(lottie_coding, height=300, key=\"coding\")\n",
        "\n",
        "with st.container():\n",
        "  st.write(\"--\")\n",
        "  st.header(\"Mis videos\")\n",
        "  image_column, text_column = st.columns((1, 2))\n",
        "  with image_column:\n",
        "    st.image(imagen_video)\n",
        "  with text_column:\n",
        "    st.write(\n",
        "      \"\"\"\n",
        "      En este video aprenderas a realizar un codigo que sea capaz de reconocer rostros en imagenes.\n",
        "      Esto en una libreta de Google Colab\n",
        "      \"\"\"\n",
        "    )\n",
        "    st.markdown(\"[Ver video...](https://youtu.be/8Sm9BzlwSDQ)\")\n",
        "\n"
      ],
      "metadata": {
        "colab": {
          "base_uri": "https://localhost:8080/"
        },
        "id": "NQTAqROeLq6_",
        "outputId": "55ec86fe-b287-4d91-8503-d2eb243ec590"
      },
      "execution_count": 23,
      "outputs": [
        {
          "output_type": "stream",
          "name": "stdout",
          "text": [
            "Overwriting jesus.py\n"
          ]
        }
      ]
    },
    {
      "cell_type": "code",
      "source": [
        "!streamlit run jesus.py & npx localtunnel --port 8501"
      ],
      "metadata": {
        "colab": {
          "base_uri": "https://localhost:8080/"
        },
        "id": "ojWYuQB_Ul-5",
        "outputId": "066b5af6-98a9-4457-937c-43767e6a93c1"
      },
      "execution_count": null,
      "outputs": [
        {
          "metadata": {
            "tags": null
          },
          "name": "stdout",
          "output_type": "stream",
          "text": [
            "[..................] | fetchMetadata: sill resolveWithNewModule localtunnel@2.0\u001b[0m\u001b[K\n",
            "Collecting usage statistics. To deactivate, set browser.gatherUsageStats to False.\n",
            "\u001b[0m\n",
            "\u001b[0m\n",
            "\u001b[34m\u001b[1m  You can now view your Streamlit app in your browser.\u001b[0m\n",
            "\u001b[0m\n",
            "\u001b[34m  Network URL: \u001b[0m\u001b[1mhttp://172.28.0.12:8501\u001b[0m\n",
            "\u001b[34m  External URL: \u001b[0m\u001b[1mhttp://34.148.53.200:8501\u001b[0m\n",
            "\u001b[0m\n",
            "\u001b[K\u001b[?25hnpx: installed 22 in 2.879s\n",
            "your url is: https://ninety-apes-walk.loca.lt\n"
          ]
        }
      ]
    }
  ]
}