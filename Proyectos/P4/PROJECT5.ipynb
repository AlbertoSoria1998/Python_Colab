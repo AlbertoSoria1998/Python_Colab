{
  "nbformat": 4,
  "nbformat_minor": 0,
  "metadata": {
    "colab": {
      "provenance": []
    },
    "kernelspec": {
      "name": "python3",
      "display_name": "Python 3"
    },
    "language_info": {
      "name": "python"
    }
  },
  "cells": [
    {
      "cell_type": "code",
      "execution_count": 1,
      "metadata": {
        "colab": {
          "base_uri": "https://localhost:8080/"
        },
        "id": "A0DU47S8LkP5",
        "outputId": "f5d1230c-3ee1-408c-80fd-44e0d2c758b7"
      },
      "outputs": [
        {
          "output_type": "execute_result",
          "data": {
            "text/plain": [
              "tuple"
            ]
          },
          "metadata": {},
          "execution_count": 1
        }
      ],
      "source": [
        "x = (\"hugo\", \"paco\", \"luis\")\n",
        "\n",
        "type(x)"
      ]
    },
    {
      "cell_type": "code",
      "source": [
        "x = (\"hugo\", \"paco\", \"luis\")\n",
        "\n",
        "type(x)\n",
        "print(x[0])"
      ],
      "metadata": {
        "colab": {
          "base_uri": "https://localhost:8080/"
        },
        "id": "u1AFASboLy8B",
        "outputId": "376bc328-52ca-4b9d-c5db-63a9ffceeea6"
      },
      "execution_count": 2,
      "outputs": [
        {
          "output_type": "stream",
          "name": "stdout",
          "text": [
            "hugo\n"
          ]
        }
      ]
    },
    {
      "cell_type": "code",
      "source": [
        "x = (\"hugo\", \"paco\", \"luis\")\n",
        "\n",
        "type(x)\n",
        "print(x[2])"
      ],
      "metadata": {
        "colab": {
          "base_uri": "https://localhost:8080/"
        },
        "id": "EBX9NgqDL5gm",
        "outputId": "819fbeb9-6b38-4d18-8af6-76edf13e27ba"
      },
      "execution_count": 3,
      "outputs": [
        {
          "output_type": "stream",
          "name": "stdout",
          "text": [
            "luis\n"
          ]
        }
      ]
    },
    {
      "cell_type": "code",
      "source": [
        "y = 2000, 2001, 2002\n",
        "type(y)"
      ],
      "metadata": {
        "colab": {
          "base_uri": "https://localhost:8080/"
        },
        "id": "3qG_nY_jMBjA",
        "outputId": "e707356f-7e1c-459b-a7bd-d7cf72b43344"
      },
      "execution_count": 4,
      "outputs": [
        {
          "output_type": "execute_result",
          "data": {
            "text/plain": [
              "tuple"
            ]
          },
          "metadata": {},
          "execution_count": 4
        }
      ]
    },
    {
      "cell_type": "code",
      "source": [
        "y = 2000, 2001, 2002\n",
        "type(y)\n",
        "print(y[2])"
      ],
      "metadata": {
        "colab": {
          "base_uri": "https://localhost:8080/"
        },
        "id": "StkbyOx5MBug",
        "outputId": "e8e0496c-4538-4130-ddc1-13e461861574"
      },
      "execution_count": 5,
      "outputs": [
        {
          "output_type": "stream",
          "name": "stdout",
          "text": [
            "2002\n"
          ]
        }
      ]
    },
    {
      "cell_type": "code",
      "source": [
        "y = 2000, 2001, 2002\n",
        "type(y)\n",
        "print(y[-1])"
      ],
      "metadata": {
        "colab": {
          "base_uri": "https://localhost:8080/"
        },
        "id": "eONn52YUMB1N",
        "outputId": "c8b4e3fb-0830-4f60-e3fe-25986340097e"
      },
      "execution_count": 7,
      "outputs": [
        {
          "output_type": "stream",
          "name": "stdout",
          "text": [
            "2002\n"
          ]
        }
      ]
    },
    {
      "cell_type": "code",
      "source": [
        "y = 2000, 2001, 2002\n",
        "type(y)\n",
        "print(y[-2])"
      ],
      "metadata": {
        "colab": {
          "base_uri": "https://localhost:8080/"
        },
        "id": "-vQJj4dYMB34",
        "outputId": "6f19d863-724e-402d-e4d1-7df5f068b3a7"
      },
      "execution_count": 8,
      "outputs": [
        {
          "output_type": "stream",
          "name": "stdout",
          "text": [
            "2001\n"
          ]
        }
      ]
    },
    {
      "cell_type": "code",
      "source": [
        "y = 2000, 2001, 2002\n",
        "type(y)\n",
        "print(y[-3])"
      ],
      "metadata": {
        "colab": {
          "base_uri": "https://localhost:8080/"
        },
        "id": "gnQIcE8BMYWz",
        "outputId": "760bbb09-3038-437c-f5ac-bc1b9c5ac01c"
      },
      "execution_count": 9,
      "outputs": [
        {
          "output_type": "stream",
          "name": "stdout",
          "text": [
            "2000\n"
          ]
        }
      ]
    },
    {
      "cell_type": "code",
      "source": [
        "y = 2000, 2001, 2002\n",
        "type(y)\n",
        "print(y[1])"
      ],
      "metadata": {
        "colab": {
          "base_uri": "https://localhost:8080/"
        },
        "id": "H5LIBySxMYZA",
        "outputId": "9c0d8eb3-5e75-478c-f2c7-3951f5beb304"
      },
      "execution_count": 10,
      "outputs": [
        {
          "output_type": "stream",
          "name": "stdout",
          "text": [
            "2001\n"
          ]
        }
      ]
    },
    {
      "cell_type": "code",
      "source": [
        "def cicleinfo(r):\n",
        "    c = 2 * 3.1416 * r\n",
        "    a = 3.1416 * r * r\n",
        "    return (c, a)"
      ],
      "metadata": {
        "id": "GZyjXg1qMYbo"
      },
      "execution_count": 11,
      "outputs": []
    },
    {
      "cell_type": "code",
      "source": [
        "cicleinfo(10)  ### SE OBTIENE EL VALOR DE LA CIRCUNFERENCIA Y EL VALOR DEL AREA"
      ],
      "metadata": {
        "colab": {
          "base_uri": "https://localhost:8080/"
        },
        "id": "8KrYHyWfMYd-",
        "outputId": "f357c85b-f4e5-4d32-afc6-b1144da8f129"
      },
      "execution_count": 13,
      "outputs": [
        {
          "output_type": "execute_result",
          "data": {
            "text/plain": [
              "(62.832, 314.16)"
            ]
          },
          "metadata": {},
          "execution_count": 13
        }
      ]
    },
    {
      "cell_type": "code",
      "source": [
        "cliente1 = (\"Miguel\", 55, 2022, 1967, \"Ingeniero\")\n",
        "nombre"
      ],
      "metadata": {
        "colab": {
          "base_uri": "https://localhost:8080/",
          "height": 36
        },
        "id": "NpP-I4qmMYgf",
        "outputId": "da8142bc-fb9e-4f9b-e386-0446d12365fc"
      },
      "execution_count": 15,
      "outputs": [
        {
          "output_type": "execute_result",
          "data": {
            "text/plain": [
              "'Miguel'"
            ],
            "application/vnd.google.colaboratory.intrinsic+json": {
              "type": "string"
            }
          },
          "metadata": {},
          "execution_count": 15
        }
      ]
    },
    {
      "cell_type": "code",
      "source": [
        "cliente2 = (\"Miguel\", 55, 2022, 1967, \"Ingeniero\")\n",
        "nombre, edad, fecha_registro, fecha_nacimiento, profesion = cliente2"
      ],
      "metadata": {
        "id": "iQ_a09WhMB9K"
      },
      "execution_count": 18,
      "outputs": []
    },
    {
      "cell_type": "code",
      "source": [
        "edad"
      ],
      "metadata": {
        "colab": {
          "base_uri": "https://localhost:8080/"
        },
        "id": "38VU_-iWM2bs",
        "outputId": "e6269160-3b98-45a6-c19d-b5676f8c20e3"
      },
      "execution_count": 19,
      "outputs": [
        {
          "output_type": "execute_result",
          "data": {
            "text/plain": [
              "55"
            ]
          },
          "metadata": {},
          "execution_count": 19
        }
      ]
    },
    {
      "cell_type": "code",
      "source": [
        "fecha_registro"
      ],
      "metadata": {
        "colab": {
          "base_uri": "https://localhost:8080/"
        },
        "id": "cQyGKddpM2eG",
        "outputId": "dee1debb-ad5b-4314-91d7-9aed81f407a9"
      },
      "execution_count": 20,
      "outputs": [
        {
          "output_type": "execute_result",
          "data": {
            "text/plain": [
              "2022"
            ]
          },
          "metadata": {},
          "execution_count": 20
        }
      ]
    },
    {
      "cell_type": "code",
      "source": [
        "fecha_nacimiento"
      ],
      "metadata": {
        "colab": {
          "base_uri": "https://localhost:8080/"
        },
        "id": "YdAf1xkiM2gs",
        "outputId": "2fbb1cac-a927-4596-8a1d-4b5ff0f51123"
      },
      "execution_count": 21,
      "outputs": [
        {
          "output_type": "execute_result",
          "data": {
            "text/plain": [
              "1967"
            ]
          },
          "metadata": {},
          "execution_count": 21
        }
      ]
    },
    {
      "cell_type": "code",
      "source": [
        "profesion"
      ],
      "metadata": {
        "colab": {
          "base_uri": "https://localhost:8080/",
          "height": 36
        },
        "id": "QRDNPcDlM2jV",
        "outputId": "5ae5bf9f-804c-4d9c-e620-e81c8372dd98"
      },
      "execution_count": 22,
      "outputs": [
        {
          "output_type": "execute_result",
          "data": {
            "text/plain": [
              "'Ingeniero'"
            ],
            "application/vnd.google.colaboratory.intrinsic+json": {
              "type": "string"
            }
          },
          "metadata": {},
          "execution_count": 22
        }
      ]
    },
    {
      "cell_type": "code",
      "source": [
        "a, b, c, d = 1,2,3,4"
      ],
      "metadata": {
        "id": "ngl0DSZOM2lw"
      },
      "execution_count": 23,
      "outputs": []
    },
    {
      "cell_type": "code",
      "source": [
        "c"
      ],
      "metadata": {
        "colab": {
          "base_uri": "https://localhost:8080/"
        },
        "id": "zi3A0kicN-Zv",
        "outputId": "00d5cc26-2360-40d3-e8f5-2fd749e257e0"
      },
      "execution_count": 24,
      "outputs": [
        {
          "output_type": "execute_result",
          "data": {
            "text/plain": [
              "3"
            ]
          },
          "metadata": {},
          "execution_count": 24
        }
      ]
    },
    {
      "cell_type": "code",
      "source": [
        "a"
      ],
      "metadata": {
        "colab": {
          "base_uri": "https://localhost:8080/"
        },
        "id": "q2m1G8_8N-cG",
        "outputId": "d330c9be-06ab-4ac5-dca7-8f658ba44ab0"
      },
      "execution_count": 25,
      "outputs": [
        {
          "output_type": "execute_result",
          "data": {
            "text/plain": [
              "1"
            ]
          },
          "metadata": {},
          "execution_count": 25
        }
      ]
    },
    {
      "cell_type": "code",
      "source": [
        "def add(x, y):\n",
        "    return x + y"
      ],
      "metadata": {
        "id": "_Bepd8dxN-ed"
      },
      "execution_count": 26,
      "outputs": []
    },
    {
      "cell_type": "code",
      "source": [
        "add(2, 3)"
      ],
      "metadata": {
        "colab": {
          "base_uri": "https://localhost:8080/"
        },
        "id": "m2Asv-n4N-g6",
        "outputId": "8b2873f0-8337-4221-e906-28c731cc8eb8"
      },
      "execution_count": 27,
      "outputs": [
        {
          "output_type": "execute_result",
          "data": {
            "text/plain": [
              "5"
            ]
          },
          "metadata": {},
          "execution_count": 27
        }
      ]
    },
    {
      "cell_type": "code",
      "source": [
        "z = (2, 10)\n",
        "add(*z)"
      ],
      "metadata": {
        "colab": {
          "base_uri": "https://localhost:8080/"
        },
        "id": "8HINGOXON-jU",
        "outputId": "5d6cbeb6-4d3c-47f3-ce34-3d083101cd75"
      },
      "execution_count": 29,
      "outputs": [
        {
          "output_type": "execute_result",
          "data": {
            "text/plain": [
              "12"
            ]
          },
          "metadata": {},
          "execution_count": 29
        }
      ]
    },
    {
      "cell_type": "code",
      "source": [
        "d = { \"k1\":3, \"k2\":7,\"k3\":\"Otro valor\" }\n",
        "\n",
        "# for i in d.items()    genera una lista de tuplas, en total hay 3 tuplas, es llave y su valor"
      ],
      "metadata": {
        "id": "RHBqGnSzN-lw"
      },
      "execution_count": 30,
      "outputs": []
    },
    {
      "cell_type": "code",
      "source": [
        "d.items()"
      ],
      "metadata": {
        "colab": {
          "base_uri": "https://localhost:8080/"
        },
        "id": "Bf17rnKEOFA7",
        "outputId": "65c34092-dd0f-4416-a096-3104a773336a"
      },
      "execution_count": 31,
      "outputs": [
        {
          "output_type": "execute_result",
          "data": {
            "text/plain": [
              "dict_items([('k1', 3), ('k2', 7), ('k3', 'Otro valor')])"
            ]
          },
          "metadata": {},
          "execution_count": 31
        }
      ]
    },
    {
      "cell_type": "code",
      "source": [
        "prueba = { \"k1\":3, \"k2\":7,\"k3\":\"Otro valor\" }\n",
        "\n",
        "for i in prueba.items():\n",
        "    print(\"key: {}, value: {}\".format(i[0], i[1]))"
      ],
      "metadata": {
        "colab": {
          "base_uri": "https://localhost:8080/"
        },
        "id": "z8V1jLLFOFDH",
        "outputId": "9a40326e-d5a3-41d3-adc8-e3f80164fdc3"
      },
      "execution_count": 32,
      "outputs": [
        {
          "output_type": "stream",
          "name": "stdout",
          "text": [
            "key: k1, value: 3\n",
            "key: k2, value: 7\n",
            "key: k3, value: Otro valor\n"
          ]
        }
      ]
    },
    {
      "cell_type": "code",
      "source": [
        "prueba1 = { \"k1\":3, \"k2\":7,\"k3\":\"Otro valor\" }\n",
        "\n",
        "for k, v in prueba1.items():\n",
        "    print(\"key: {}, value: {}\".format(k, v))"
      ],
      "metadata": {
        "colab": {
          "base_uri": "https://localhost:8080/"
        },
        "id": "hRkd4gA8OFFt",
        "outputId": "c1e01b69-8c64-4fd6-a522-1ec7388afa28"
      },
      "execution_count": 33,
      "outputs": [
        {
          "output_type": "stream",
          "name": "stdout",
          "text": [
            "key: k1, value: 3\n",
            "key: k2, value: 7\n",
            "key: k3, value: Otro valor\n"
          ]
        }
      ]
    }
  ]
}